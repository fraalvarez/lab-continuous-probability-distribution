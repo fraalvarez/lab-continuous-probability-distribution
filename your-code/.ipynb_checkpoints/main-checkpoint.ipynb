{
 "cells": [
  {
   "cell_type": "markdown",
   "metadata": {},
   "source": [
    "# Before your start:\n",
    "\n",
    "    Read the README.md file\n",
    "    Comment as much as you can and use the resources (README.md file)\n",
    "    Happy learning!"
   ]
  },
  {
   "cell_type": "markdown",
   "metadata": {},
   "source": [
    "In this exercise, we  will generate random numbers from the continuous disributions we learned in the lesson. There are two ways to generate random numbers:\n",
    "\n",
    "1. Using the numpy library \n",
    "1. using the Scipy library \n",
    "\n",
    "Use either or both of the lbraries in this exercise."
   ]
  },
  {
   "cell_type": "markdown",
   "metadata": {},
   "source": [
    "## Uniform Distribution\n",
    "\n",
    "To generate uniform random numbers between any two given values using scipy, we can either use the following code or the code that we have\n",
    "discussed in class:"
   ]
  },
  {
   "cell_type": "code",
   "execution_count": null,
   "metadata": {},
   "outputs": [],
   "source": [
    "from scipy.stats import uniform\n",
    "x = uniform.rvs(size=10)\n",
    "a = 2\n",
    "b = 3\n",
    "randoms  = a + (b-a)*x\n",
    "print(randoms)"
   ]
  },
  {
   "cell_type": "markdown",
   "metadata": {},
   "source": [
    "**Your task:**\n",
    "\n",
    "1. Based on the code above, write a function that generates uniformly distributed random numbers. There are several requirements for your function:\n",
    "    * It should accept 3 parameters: \n",
    "        * `bottom` - the lower boundary of the generated numbers\n",
    "        * `ceiling` - the upper boundary of the generated numbers\n",
    "        * `count` - how many numbers to generate\n",
    "    * It should return an array of uniformly distributed random numbers\n",
    "\n",
    "1. Call your function with 2 sets of params below:\n",
    "    * bottom=10, ceiling=15, count=100\n",
    "    * bottom=10, ceiling=60, count=1,000\n",
    "\n",
    "1. Plot the uniform distributions generated above using histograms, where x axis is the value and y axis is the count. Let the histogram's number of bins be 10.\n",
    "\n",
    "Your output should look like below:\n",
    "\n",
    "![uniform distribution](ud.png)"
   ]
  },
  {
   "cell_type": "code",
   "execution_count": 59,
   "metadata": {},
   "outputs": [],
   "source": [
    "# your code here\n",
    "from IPython.core.interactiveshell import InteractiveShell\n",
    "InteractiveShell.ast_node_interactivity = 'all'\n",
    "\n",
    "import numpy as np\n",
    "import pandas as pd\n",
    "import matplotlib.pyplot as plt\n",
    "from scipy.stats import uniform, norm, expon"
   ]
  },
  {
   "cell_type": "markdown",
   "metadata": {},
   "source": [
    "How are the two distributions different?"
   ]
  },
  {
   "cell_type": "code",
   "execution_count": 48,
   "metadata": {},
   "outputs": [],
   "source": [
    "# your answer below\n",
    "def uniform_rand (bottom, ceiling, count):\n",
    "    x = uniform.rvs(size = count)\n",
    "    rand_1  = bottom + ((ceiling - bottom) * x)\n",
    "    return(rand_1)"
   ]
  },
  {
   "cell_type": "code",
   "execution_count": 49,
   "metadata": {},
   "outputs": [],
   "source": [
    "set_1 = uniform_rand(10, 15, 100)\n",
    "set_2 = uniform_rand(10, 60, 1000)"
   ]
  },
  {
   "cell_type": "code",
   "execution_count": 50,
   "metadata": {},
   "outputs": [
    {
     "data": {
      "text/plain": [
       "(array([ 7., 10.,  8.,  9.,  9., 13.,  9.,  6., 15., 14.]),\n",
       " array([10.08668143, 10.57516917, 11.06365691, 11.55214465, 12.04063239,\n",
       "        12.52912014, 13.01760788, 13.50609562, 13.99458336, 14.4830711 ,\n",
       "        14.97155885]),\n",
       " <a list of 10 Patch objects>)"
      ]
     },
     "execution_count": 50,
     "metadata": {},
     "output_type": "execute_result"
    },
    {
     "data": {
      "text/plain": [
       "(array([102.,  99.,  94.,  98., 109.,  86., 100., 120.,  85., 107.]),\n",
       " array([10.0417452 , 15.03332736, 20.02490952, 25.01649168, 30.00807384,\n",
       "        34.999656  , 39.99123816, 44.98282032, 49.97440248, 54.96598464,\n",
       "        59.9575668 ]),\n",
       " <a list of 10 Patch objects>)"
      ]
     },
     "execution_count": 50,
     "metadata": {},
     "output_type": "execute_result"
    },
    {
     "data": {
      "image/png": "[encoded data removed]",
      "text/plain": [
       "<Figure size 864x576 with 2 Axes>"
      ]
     },
     "metadata": {
      "needs_background": "light"
     },
     "output_type": "display_data"
    }
   ],
   "source": [
    "fig, ax = plt.subplots(1,2, sharey = True, figsize = (12, 8))\n",
    "\n",
    "ax[0].hist(set_1)\n",
    "ax[1].hist(set_2)"
   ]
  },
  {
   "cell_type": "markdown",
   "metadata": {},
   "source": [
    "## Normal Distribution\n",
    "\n",
    "1. In the same way in the Uniform Distribution challenge, write a function that generates normally distributed random numbers.\n",
    "1. Generate 1,000 normally distributed numbers with the average of 10 and standard deviation of 1\n",
    "1. Generate 1,000 normally distributed numbers with the average of 10 and standard deviation of 50\n",
    "2. Plot the distributions of the data generated.\n",
    "\n",
    "Expected output:\n",
    "\n",
    "![normal distribution](nd.png)"
   ]
  },
  {
   "cell_type": "code",
   "execution_count": 51,
   "metadata": {},
   "outputs": [],
   "source": [
    "# your code here\n",
    "def normal_rand (average, standard_dev, count):\n",
    "    return norm.rvs(loc = average, scale = standard_dev, size = count)"
   ]
  },
  {
   "cell_type": "code",
   "execution_count": 54,
   "metadata": {},
   "outputs": [],
   "source": [
    "# your answer below\n",
    "set_1 = normal_rand(10, 1, 1000)\n",
    "set_2 = normal_rand(10, 50, 1000)"
   ]
  },
  {
   "cell_type": "code",
   "execution_count": 55,
   "metadata": {},
   "outputs": [
    {
     "data": {
      "text/plain": [
       "(array([ 1.,  2.,  0.,  2.,  1.,  3.,  5.,  4.,  5.,  4., 12.,  7., 16.,\n",
       "        15., 19., 21., 38., 36., 46., 39., 65., 46., 63., 53., 46., 55.,\n",
       "        74., 53., 34., 35., 37., 31., 21., 22., 18., 12., 14., 12., 15.,\n",
       "         7.,  1.,  2.,  4.,  1.,  2.,  0.,  0.,  0.,  0.,  1.]),\n",
       " array([ 6.63262748,  6.77120138,  6.90977528,  7.04834919,  7.18692309,\n",
       "         7.32549699,  7.4640709 ,  7.6026448 ,  7.7412187 ,  7.87979261,\n",
       "         8.01836651,  8.15694041,  8.29551431,  8.43408822,  8.57266212,\n",
       "         8.71123602,  8.84980993,  8.98838383,  9.12695773,  9.26553163,\n",
       "         9.40410554,  9.54267944,  9.68125334,  9.81982725,  9.95840115,\n",
       "        10.09697505, 10.23554896, 10.37412286, 10.51269676, 10.65127066,\n",
       "        10.78984457, 10.92841847, 11.06699237, 11.20556628, 11.34414018,\n",
       "        11.48271408, 11.62128799, 11.75986189, 11.89843579, 12.03700969,\n",
       "        12.1755836 , 12.3141575 , 12.4527314 , 12.59130531, 12.72987921,\n",
       "        12.86845311, 13.00702701, 13.14560092, 13.28417482, 13.42274872,\n",
       "        13.56132263]),\n",
       " <a list of 50 Patch objects>)"
      ]
     },
     "execution_count": 55,
     "metadata": {},
     "output_type": "execute_result"
    },
    {
     "data": {
      "text/plain": [
       "(array([ 2.,  1.,  0.,  2.,  2.,  2.,  3.,  5., 11., 14., 14., 19., 22.,\n",
       "        21., 28., 34., 33., 46., 39., 42., 49., 58., 50., 55., 67., 48.,\n",
       "        45., 55., 39., 26., 36., 19., 27., 23., 21.,  7.,  8., 12.,  1.,\n",
       "         2.,  3.,  2.,  2.,  0.,  0.,  1.,  2.,  1.,  0.,  1.]),\n",
       " array([-1.44299847e+02, -1.37430031e+02, -1.30560216e+02, -1.23690400e+02,\n",
       "        -1.16820584e+02, -1.09950768e+02, -1.03080953e+02, -9.62111368e+01,\n",
       "        -8.93413210e+01, -8.24715053e+01, -7.56016895e+01, -6.87318737e+01,\n",
       "        -6.18620580e+01, -5.49922422e+01, -4.81224264e+01, -4.12526107e+01,\n",
       "        -3.43827949e+01, -2.75129791e+01, -2.06431634e+01, -1.37733476e+01,\n",
       "        -6.90353183e+00, -3.37160604e-02,  6.83609971e+00,  1.37059155e+01,\n",
       "         2.05757312e+01,  2.74455470e+01,  3.43153628e+01,  4.11851785e+01,\n",
       "         4.80549943e+01,  5.49248101e+01,  6.17946258e+01,  6.86644416e+01,\n",
       "         7.55342574e+01,  8.24040731e+01,  8.92738889e+01,  9.61437047e+01,\n",
       "         1.03013520e+02,  1.09883336e+02,  1.16753152e+02,  1.23622968e+02,\n",
       "         1.30492784e+02,  1.37362599e+02,  1.44232415e+02,  1.51102231e+02,\n",
       "         1.57972047e+02,  1.64841862e+02,  1.71711678e+02,  1.78581494e+02,\n",
       "         1.85451310e+02,  1.92321125e+02,  1.99190941e+02]),\n",
       " <a list of 50 Patch objects>)"
      ]
     },
     "execution_count": 55,
     "metadata": {},
     "output_type": "execute_result"
    },
    {
     "data": {
      "image/png": "[encoded data removed]",
      "text/plain": [
       "<Figure size 864x576 with 2 Axes>"
      ]
     },
     "metadata": {
      "needs_background": "light"
     },
     "output_type": "display_data"
    }
   ],
   "source": [
    "fig, ax = plt.subplots(1,2, sharey = True, figsize = (12, 8))\n",
    "\n",
    "ax[0].hist(set_1, bins = 50)\n",
    "ax[1].hist(set_2, bins = 50)"
   ]
  },
  {
   "cell_type": "markdown",
   "metadata": {},
   "source": [
    "How are the two distributions different?"
   ]
  },
  {
   "cell_type": "markdown",
   "metadata": {},
   "source": [
    "* En la segunda gráfica dado que la desviación estándar es mayor se ve una mayor distribución en los datos."
   ]
  },
  {
   "cell_type": "markdown",
   "metadata": {},
   "source": [
    "## Normal Distribution of Real Data\n",
    "\n",
    "In this challenge we are going to take a look the real data. We will use vehicles.csv file for this exercise"
   ]
  },
  {
   "cell_type": "code",
   "execution_count": 30,
   "metadata": {},
   "outputs": [
    {
     "data": {
      "text/html": [
       "<div>\n",
       "<style scoped>\n",
       "    .dataframe tbody tr th:only-of-type {\n",
       "        vertical-align: middle;\n",
       "    }\n",
       "\n",
       "    .dataframe tbody tr th {\n",
       "        vertical-align: top;\n",
       "    }\n",
       "\n",
       "    .dataframe thead th {\n",
       "        text-align: right;\n",
       "    }\n",
       "</style>\n",
       "<table border=\"1\" class=\"dataframe\">\n",
       "  <thead>\n",
       "    <tr style=\"text-align: right;\">\n",
       "      <th></th>\n",
       "      <th>Make</th>\n",
       "      <th>Model</th>\n",
       "      <th>Year</th>\n",
       "      <th>Engine Displacement</th>\n",
       "      <th>Cylinders</th>\n",
       "      <th>Transmission</th>\n",
       "      <th>Drivetrain</th>\n",
       "      <th>Vehicle Class</th>\n",
       "      <th>Fuel Type</th>\n",
       "      <th>Fuel Barrels/Year</th>\n",
       "      <th>City MPG</th>\n",
       "      <th>Highway MPG</th>\n",
       "      <th>Combined MPG</th>\n",
       "      <th>CO2 Emission Grams/Mile</th>\n",
       "      <th>Fuel Cost/Year</th>\n",
       "    </tr>\n",
       "  </thead>\n",
       "  <tbody>\n",
       "    <tr>\n",
       "      <th>0</th>\n",
       "      <td>AM General</td>\n",
       "      <td>DJ Po Vehicle 2WD</td>\n",
       "      <td>1984</td>\n",
       "      <td>2.5</td>\n",
       "      <td>4.0</td>\n",
       "      <td>Automatic 3-spd</td>\n",
       "      <td>2-Wheel Drive</td>\n",
       "      <td>Special Purpose Vehicle 2WD</td>\n",
       "      <td>Regular</td>\n",
       "      <td>19.388824</td>\n",
       "      <td>18</td>\n",
       "      <td>17</td>\n",
       "      <td>17</td>\n",
       "      <td>522.764706</td>\n",
       "      <td>1950</td>\n",
       "    </tr>\n",
       "    <tr>\n",
       "      <th>1</th>\n",
       "      <td>AM General</td>\n",
       "      <td>FJ8c Post Office</td>\n",
       "      <td>1984</td>\n",
       "      <td>4.2</td>\n",
       "      <td>6.0</td>\n",
       "      <td>Automatic 3-spd</td>\n",
       "      <td>2-Wheel Drive</td>\n",
       "      <td>Special Purpose Vehicle 2WD</td>\n",
       "      <td>Regular</td>\n",
       "      <td>25.354615</td>\n",
       "      <td>13</td>\n",
       "      <td>13</td>\n",
       "      <td>13</td>\n",
       "      <td>683.615385</td>\n",
       "      <td>2550</td>\n",
       "    </tr>\n",
       "    <tr>\n",
       "      <th>2</th>\n",
       "      <td>AM General</td>\n",
       "      <td>Post Office DJ5 2WD</td>\n",
       "      <td>1985</td>\n",
       "      <td>2.5</td>\n",
       "      <td>4.0</td>\n",
       "      <td>Automatic 3-spd</td>\n",
       "      <td>Rear-Wheel Drive</td>\n",
       "      <td>Special Purpose Vehicle 2WD</td>\n",
       "      <td>Regular</td>\n",
       "      <td>20.600625</td>\n",
       "      <td>16</td>\n",
       "      <td>17</td>\n",
       "      <td>16</td>\n",
       "      <td>555.437500</td>\n",
       "      <td>2100</td>\n",
       "    </tr>\n",
       "    <tr>\n",
       "      <th>3</th>\n",
       "      <td>AM General</td>\n",
       "      <td>Post Office DJ8 2WD</td>\n",
       "      <td>1985</td>\n",
       "      <td>4.2</td>\n",
       "      <td>6.0</td>\n",
       "      <td>Automatic 3-spd</td>\n",
       "      <td>Rear-Wheel Drive</td>\n",
       "      <td>Special Purpose Vehicle 2WD</td>\n",
       "      <td>Regular</td>\n",
       "      <td>25.354615</td>\n",
       "      <td>13</td>\n",
       "      <td>13</td>\n",
       "      <td>13</td>\n",
       "      <td>683.615385</td>\n",
       "      <td>2550</td>\n",
       "    </tr>\n",
       "    <tr>\n",
       "      <th>4</th>\n",
       "      <td>ASC Incorporated</td>\n",
       "      <td>GNX</td>\n",
       "      <td>1987</td>\n",
       "      <td>3.8</td>\n",
       "      <td>6.0</td>\n",
       "      <td>Automatic 4-spd</td>\n",
       "      <td>Rear-Wheel Drive</td>\n",
       "      <td>Midsize Cars</td>\n",
       "      <td>Premium</td>\n",
       "      <td>20.600625</td>\n",
       "      <td>14</td>\n",
       "      <td>21</td>\n",
       "      <td>16</td>\n",
       "      <td>555.437500</td>\n",
       "      <td>2550</td>\n",
       "    </tr>\n",
       "  </tbody>\n",
       "</table>\n",
       "</div>"
      ],
      "text/plain": [
       "               Make                Model  Year  Engine Displacement  \\\n",
       "0        AM General    DJ Po Vehicle 2WD  1984                  2.5   \n",
       "1        AM General     FJ8c Post Office  1984                  4.2   \n",
       "2        AM General  Post Office DJ5 2WD  1985                  2.5   \n",
       "3        AM General  Post Office DJ8 2WD  1985                  4.2   \n",
       "4  ASC Incorporated                  GNX  1987                  3.8   \n",
       "\n",
       "   Cylinders     Transmission        Drivetrain                Vehicle Class  \\\n",
       "0        4.0  Automatic 3-spd     2-Wheel Drive  Special Purpose Vehicle 2WD   \n",
       "1        6.0  Automatic 3-spd     2-Wheel Drive  Special Purpose Vehicle 2WD   \n",
       "2        4.0  Automatic 3-spd  Rear-Wheel Drive  Special Purpose Vehicle 2WD   \n",
       "3        6.0  Automatic 3-spd  Rear-Wheel Drive  Special Purpose Vehicle 2WD   \n",
       "4        6.0  Automatic 4-spd  Rear-Wheel Drive                 Midsize Cars   \n",
       "\n",
       "  Fuel Type  Fuel Barrels/Year  City MPG  Highway MPG  Combined MPG  \\\n",
       "0   Regular          19.388824        18           17            17   \n",
       "1   Regular          25.354615        13           13            13   \n",
       "2   Regular          20.600625        16           17            16   \n",
       "3   Regular          25.354615        13           13            13   \n",
       "4   Premium          20.600625        14           21            16   \n",
       "\n",
       "   CO2 Emission Grams/Mile  Fuel Cost/Year  \n",
       "0               522.764706            1950  \n",
       "1               683.615385            2550  \n",
       "2               555.437500            2100  \n",
       "3               683.615385            2550  \n",
       "4               555.437500            2550  "
      ]
     },
     "execution_count": 30,
     "metadata": {},
     "output_type": "execute_result"
    },
    {
     "data": {
      "text/plain": [
       "(35952, 15)"
      ]
     },
     "execution_count": 30,
     "metadata": {},
     "output_type": "execute_result"
    }
   ],
   "source": [
    "df = pd.read_csv('.\\\\vehicles.csv')\n",
    "df.head()\n",
    "df.shape"
   ]
  },
  {
   "cell_type": "markdown",
   "metadata": {},
   "source": [
    "First import vehicles.csv.\n",
    "Then plot the histograms for the following variables:\n",
    "\n",
    "1. Fuel Barrels/Year"
   ]
  },
  {
   "cell_type": "code",
   "execution_count": 39,
   "metadata": {},
   "outputs": [
    {
     "data": {
      "text/plain": [
       "(array([6.000e+01, 0.000e+00, 0.000e+00, 3.000e+00, 2.000e+00, 0.000e+00,\n",
       "        3.000e+00, 5.000e+00, 4.000e+00, 4.000e+00, 1.000e+01, 0.000e+00,\n",
       "        4.000e+00, 2.100e+01, 1.900e+01, 2.300e+01, 8.100e+01, 7.900e+01,\n",
       "        4.600e+01, 9.100e+01, 1.060e+02, 3.150e+02, 2.620e+02, 4.430e+02,\n",
       "        1.078e+03, 6.760e+02, 1.048e+03, 1.257e+03, 2.700e+01, 1.553e+03,\n",
       "        1.762e+03, 2.258e+03, 2.800e+01, 3.139e+03, 3.061e+03, 3.100e+01,\n",
       "        3.231e+03, 0.000e+00, 3.529e+03, 0.000e+00, 3.100e+01, 2.277e+03,\n",
       "        7.900e+01, 2.226e+03, 0.000e+00, 6.500e+01, 2.210e+03, 1.380e+02,\n",
       "        0.000e+00, 1.940e+03, 8.600e+01, 0.000e+00, 0.000e+00, 1.245e+03,\n",
       "        3.000e+01, 0.000e+00, 0.000e+00, 5.000e+00, 7.300e+02, 0.000e+00,\n",
       "        0.000e+00, 0.000e+00, 0.000e+00, 4.390e+02, 0.000e+00, 0.000e+00,\n",
       "        0.000e+00, 0.000e+00, 0.000e+00, 1.300e+02, 0.000e+00, 0.000e+00,\n",
       "        0.000e+00, 0.000e+00, 0.000e+00, 0.000e+00, 0.000e+00, 3.600e+01,\n",
       "        0.000e+00, 0.000e+00, 0.000e+00, 0.000e+00, 0.000e+00, 0.000e+00,\n",
       "        0.000e+00, 0.000e+00, 0.000e+00, 2.100e+01, 0.000e+00, 0.000e+00,\n",
       "        0.000e+00, 0.000e+00, 0.000e+00, 0.000e+00, 0.000e+00, 0.000e+00,\n",
       "        0.000e+00, 0.000e+00, 0.000e+00, 5.000e+00]),\n",
       " array([ 0.06      ,  0.53027143,  1.00054286,  1.47081429,  1.94108571,\n",
       "         2.41135714,  2.88162857,  3.3519    ,  3.82217143,  4.29244286,\n",
       "         4.76271429,  5.23298571,  5.70325714,  6.17352857,  6.6438    ,\n",
       "         7.11407143,  7.58434286,  8.05461429,  8.52488571,  8.99515714,\n",
       "         9.46542857,  9.9357    , 10.40597143, 10.87624286, 11.34651429,\n",
       "        11.81678571, 12.28705714, 12.75732857, 13.2276    , 13.69787143,\n",
       "        14.16814286, 14.63841429, 15.10868571, 15.57895714, 16.04922857,\n",
       "        16.5195    , 16.98977143, 17.46004286, 17.93031429, 18.40058571,\n",
       "        18.87085714, 19.34112857, 19.8114    , 20.28167143, 20.75194286,\n",
       "        21.22221429, 21.69248571, 22.16275714, 22.63302857, 23.1033    ,\n",
       "        23.57357143, 24.04384286, 24.51411429, 24.98438571, 25.45465714,\n",
       "        25.92492857, 26.3952    , 26.86547143, 27.33574286, 27.80601429,\n",
       "        28.27628571, 28.74655714, 29.21682857, 29.6871    , 30.15737143,\n",
       "        30.62764286, 31.09791429, 31.56818571, 32.03845714, 32.50872857,\n",
       "        32.979     , 33.44927143, 33.91954286, 34.38981429, 34.86008571,\n",
       "        35.33035714, 35.80062857, 36.2709    , 36.74117143, 37.21144286,\n",
       "        37.68171429, 38.15198571, 38.62225714, 39.09252857, 39.5628    ,\n",
       "        40.03307143, 40.50334286, 40.97361429, 41.44388571, 41.91415714,\n",
       "        42.38442857, 42.8547    , 43.32497143, 43.79524286, 44.26551429,\n",
       "        44.73578571, 45.20605714, 45.67632857, 46.1466    , 46.61687143,\n",
       "        47.08714286]),\n",
       " <a list of 100 Patch objects>)"
      ]
     },
     "execution_count": 39,
     "metadata": {},
     "output_type": "execute_result"
    },
    {
     "data": {
      "image/png": "[encoded data removed]",
      "text/plain": [
       "<Figure size 432x288 with 1 Axes>"
      ]
     },
     "metadata": {
      "needs_background": "light"
     },
     "output_type": "display_data"
    }
   ],
   "source": [
    "# your code here\n",
    "plt.hist(df['Fuel Barrels/Year'], bins = 100)"
   ]
  },
  {
   "cell_type": "markdown",
   "metadata": {},
   "source": [
    "2. CO2 Emission Grams/Mile "
   ]
  },
  {
   "cell_type": "code",
   "execution_count": 40,
   "metadata": {},
   "outputs": [
    {
     "data": {
      "text/plain": [
       "(array([3.000e+00, 2.000e+00, 0.000e+00, 4.000e+00, 4.000e+00, 3.000e+00,\n",
       "        1.000e+00, 1.300e+01, 1.000e+00, 3.000e+00, 1.000e+01, 1.400e+01,\n",
       "        3.000e+01, 2.400e+01, 7.100e+01, 8.800e+01, 4.500e+01, 1.030e+02,\n",
       "        2.490e+02, 1.980e+02, 3.320e+02, 7.290e+02, 6.700e+02, 6.790e+02,\n",
       "        1.012e+03, 1.207e+03, 2.500e+02, 1.547e+03, 1.684e+03, 2.095e+03,\n",
       "        3.310e+02, 2.933e+03, 2.300e+02, 2.915e+03, 3.012e+03, 2.200e+02,\n",
       "        2.330e+02, 3.266e+03, 1.140e+02, 2.157e+03, 1.560e+02, 8.900e+01,\n",
       "        2.157e+03, 5.700e+01, 7.100e+01, 2.205e+03, 7.700e+01, 6.900e+01,\n",
       "        1.925e+03, 1.900e+01, 6.000e+00, 3.000e+01, 1.210e+03, 1.500e+01,\n",
       "        1.500e+01, 2.200e+01, 2.000e+00, 7.070e+02, 3.000e+00, 0.000e+00,\n",
       "        4.000e+00, 2.000e+00, 4.370e+02, 0.000e+00, 0.000e+00, 3.000e+00,\n",
       "        0.000e+00, 0.000e+00, 0.000e+00, 1.270e+02, 0.000e+00, 0.000e+00,\n",
       "        0.000e+00, 0.000e+00, 0.000e+00, 0.000e+00, 0.000e+00, 3.600e+01,\n",
       "        0.000e+00, 0.000e+00, 0.000e+00, 0.000e+00, 0.000e+00, 0.000e+00,\n",
       "        0.000e+00, 0.000e+00, 0.000e+00, 2.100e+01, 0.000e+00, 0.000e+00,\n",
       "        0.000e+00, 0.000e+00, 0.000e+00, 0.000e+00, 0.000e+00, 0.000e+00,\n",
       "        0.000e+00, 0.000e+00, 0.000e+00, 5.000e+00]),\n",
       " array([  37.        ,   49.32571429,   61.65142857,   73.97714286,\n",
       "          86.30285714,   98.62857143,  110.95428571,  123.28      ,\n",
       "         135.60571429,  147.93142857,  160.25714286,  172.58285714,\n",
       "         184.90857143,  197.23428571,  209.56      ,  221.88571429,\n",
       "         234.21142857,  246.53714286,  258.86285714,  271.18857143,\n",
       "         283.51428571,  295.84      ,  308.16571429,  320.49142857,\n",
       "         332.81714286,  345.14285714,  357.46857143,  369.79428571,\n",
       "         382.12      ,  394.44571429,  406.77142857,  419.09714286,\n",
       "         431.42285714,  443.74857143,  456.07428571,  468.4       ,\n",
       "         480.72571429,  493.05142857,  505.37714286,  517.70285714,\n",
       "         530.02857143,  542.35428571,  554.68      ,  567.00571429,\n",
       "         579.33142857,  591.65714286,  603.98285714,  616.30857143,\n",
       "         628.63428571,  640.96      ,  653.28571429,  665.61142857,\n",
       "         677.93714286,  690.26285714,  702.58857143,  714.91428571,\n",
       "         727.24      ,  739.56571429,  751.89142857,  764.21714286,\n",
       "         776.54285714,  788.86857143,  801.19428571,  813.52      ,\n",
       "         825.84571429,  838.17142857,  850.49714286,  862.82285714,\n",
       "         875.14857143,  887.47428571,  899.8       ,  912.12571429,\n",
       "         924.45142857,  936.77714286,  949.10285714,  961.42857143,\n",
       "         973.75428571,  986.08      ,  998.40571429, 1010.73142857,\n",
       "        1023.05714286, 1035.38285714, 1047.70857143, 1060.03428571,\n",
       "        1072.36      , 1084.68571429, 1097.01142857, 1109.33714286,\n",
       "        1121.66285714, 1133.98857143, 1146.31428571, 1158.64      ,\n",
       "        1170.96571429, 1183.29142857, 1195.61714286, 1207.94285714,\n",
       "        1220.26857143, 1232.59428571, 1244.92      , 1257.24571429,\n",
       "        1269.57142857]),\n",
       " <a list of 100 Patch objects>)"
      ]
     },
     "execution_count": 40,
     "metadata": {},
     "output_type": "execute_result"
    },
    {
     "data": {
      "image/png": "[encoded data removed]",
      "text/plain": [
       "<Figure size 432x288 with 1 Axes>"
      ]
     },
     "metadata": {
      "needs_background": "light"
     },
     "output_type": "display_data"
    }
   ],
   "source": [
    "# your code here\n",
    "plt.hist(df['CO2 Emission Grams/Mile'], bins = 100)"
   ]
  },
  {
   "cell_type": "markdown",
   "metadata": {},
   "source": [
    "3. Combined MPG"
   ]
  },
  {
   "cell_type": "code",
   "execution_count": 41,
   "metadata": {},
   "outputs": [
    {
     "data": {
      "text/plain": [
       "(array([5.000e+00, 0.000e+00, 2.100e+01, 0.000e+00, 4.000e+01, 0.000e+00,\n",
       "        1.310e+02, 0.000e+00, 4.410e+02, 0.000e+00, 7.410e+02, 0.000e+00,\n",
       "        1.255e+03, 0.000e+00, 1.947e+03, 0.000e+00, 2.241e+03, 0.000e+00,\n",
       "        2.315e+03, 0.000e+00, 2.420e+03, 0.000e+00, 3.559e+03, 0.000e+00,\n",
       "        3.282e+03, 0.000e+00, 3.093e+03, 0.000e+00, 3.158e+03, 0.000e+00,\n",
       "        2.247e+03, 0.000e+00, 1.794e+03, 0.000e+00, 1.546e+03, 0.000e+00,\n",
       "        1.278e+03, 0.000e+00, 1.067e+03, 0.000e+00, 6.920e+02, 0.000e+00,\n",
       "        6.390e+02, 0.000e+00, 4.530e+02, 0.000e+00, 3.710e+02, 0.000e+00,\n",
       "        2.610e+02, 0.000e+00, 0.000e+00, 1.690e+02, 0.000e+00, 1.760e+02,\n",
       "        0.000e+00, 1.620e+02, 0.000e+00, 7.100e+01, 0.000e+00, 5.800e+01,\n",
       "        0.000e+00, 4.100e+01, 0.000e+00, 4.300e+01, 0.000e+00, 2.300e+01,\n",
       "        0.000e+00, 6.500e+01, 0.000e+00, 3.800e+01, 0.000e+00, 3.700e+01,\n",
       "        0.000e+00, 7.000e+00, 0.000e+00, 5.000e+00, 0.000e+00, 5.000e+00,\n",
       "        0.000e+00, 1.100e+01, 0.000e+00, 1.600e+01, 0.000e+00, 2.000e+00,\n",
       "        0.000e+00, 0.000e+00, 0.000e+00, 1.500e+01, 0.000e+00, 0.000e+00,\n",
       "        0.000e+00, 5.000e+00, 0.000e+00, 4.000e+00, 0.000e+00, 0.000e+00,\n",
       "        0.000e+00, 0.000e+00, 0.000e+00, 2.000e+00]),\n",
       " array([ 7.  ,  7.49,  7.98,  8.47,  8.96,  9.45,  9.94, 10.43, 10.92,\n",
       "        11.41, 11.9 , 12.39, 12.88, 13.37, 13.86, 14.35, 14.84, 15.33,\n",
       "        15.82, 16.31, 16.8 , 17.29, 17.78, 18.27, 18.76, 19.25, 19.74,\n",
       "        20.23, 20.72, 21.21, 21.7 , 22.19, 22.68, 23.17, 23.66, 24.15,\n",
       "        24.64, 25.13, 25.62, 26.11, 26.6 , 27.09, 27.58, 28.07, 28.56,\n",
       "        29.05, 29.54, 30.03, 30.52, 31.01, 31.5 , 31.99, 32.48, 32.97,\n",
       "        33.46, 33.95, 34.44, 34.93, 35.42, 35.91, 36.4 , 36.89, 37.38,\n",
       "        37.87, 38.36, 38.85, 39.34, 39.83, 40.32, 40.81, 41.3 , 41.79,\n",
       "        42.28, 42.77, 43.26, 43.75, 44.24, 44.73, 45.22, 45.71, 46.2 ,\n",
       "        46.69, 47.18, 47.67, 48.16, 48.65, 49.14, 49.63, 50.12, 50.61,\n",
       "        51.1 , 51.59, 52.08, 52.57, 53.06, 53.55, 54.04, 54.53, 55.02,\n",
       "        55.51, 56.  ]),\n",
       " <a list of 100 Patch objects>)"
      ]
     },
     "execution_count": 41,
     "metadata": {},
     "output_type": "execute_result"
    },
    {
     "data": {
      "image/png": "[encoded data removed]",
      "text/plain": [
       "<Figure size 432x288 with 1 Axes>"
      ]
     },
     "metadata": {
      "needs_background": "light"
     },
     "output_type": "display_data"
    }
   ],
   "source": [
    "# your code here\n",
    "plt.hist(df['Combined MPG'], bins = 100)"
   ]
  },
  {
   "cell_type": "markdown",
   "metadata": {},
   "source": [
    "Which one(s) of the variables are nearly normally distributed? How do you know?"
   ]
  },
  {
   "cell_type": "markdown",
   "metadata": {},
   "source": [
    "* The three variables look very much alike to the normally distributed one, but the closest one is the 'Combined MPG' field"
   ]
  },
  {
   "cell_type": "markdown",
   "metadata": {},
   "source": [
    "## Exponential Distribution"
   ]
  },
  {
   "cell_type": "markdown",
   "metadata": {},
   "source": [
    "1. Using `numpy.random.exponential`, create a function that returns a list of numbers exponentially distributed with the mean of 10. \n",
    "\n",
    "1. Use the function to generate two number sequences with the size of 1 and 100.\n",
    "\n",
    "1. Plot the distributions as histograms with the number of bins as 100.\n",
    "\n",
    "Your output should look like below:\n",
    "\n",
    "![exponential distribution](ed.png)"
   ]
  },
  {
   "cell_type": "code",
   "execution_count": 56,
   "metadata": {},
   "outputs": [],
   "source": [
    "# your code here\n",
    "def exp_random(average, count):\n",
    "    return np.random.exponential(size = count, scale = average)"
   ]
  },
  {
   "cell_type": "code",
   "execution_count": 57,
   "metadata": {},
   "outputs": [],
   "source": [
    "set_1 = exp_random(1, 1000)\n",
    "set_2 = exp_random(100, 1000)"
   ]
  },
  {
   "cell_type": "code",
   "execution_count": 58,
   "metadata": {},
   "outputs": [
    {
     "data": {
      "text/plain": [
       "(array([71., 59., 57., 55., 48., 58., 57., 48., 41., 50., 26., 28., 42.,\n",
       "        30., 27., 24., 29., 20., 22., 15., 16., 21., 14.,  6., 13., 13.,\n",
       "         4.,  9., 12., 10.,  2.,  6.,  2.,  7.,  5.,  2.,  2.,  4.,  3.,\n",
       "         4.,  2.,  2.,  4.,  4.,  2.,  2.,  2.,  1.,  0.,  3.,  1.,  0.,\n",
       "         2.,  2.,  0.,  0.,  1.,  0.,  1.,  2.,  0.,  0.,  2.,  0.,  1.,\n",
       "         0.,  1.,  1.,  0.,  0.,  1.,  0.,  0.,  0.,  0.,  0.,  0.,  0.,\n",
       "         0.,  0.,  0.,  0.,  0.,  0.,  0.,  0.,  0.,  0.,  0.,  0.,  0.,\n",
       "         0.,  0.,  0.,  0.,  0.,  0.,  0.,  0.,  1.]),\n",
       " array([1.30298341e-04, 7.80547387e-02, 1.55979179e-01, 2.33903619e-01,\n",
       "        3.11828060e-01, 3.89752500e-01, 4.67676940e-01, 5.45601381e-01,\n",
       "        6.23525821e-01, 7.01450262e-01, 7.79374702e-01, 8.57299142e-01,\n",
       "        9.35223583e-01, 1.01314802e+00, 1.09107246e+00, 1.16899690e+00,\n",
       "        1.24692134e+00, 1.32484578e+00, 1.40277022e+00, 1.48069467e+00,\n",
       "        1.55861911e+00, 1.63654355e+00, 1.71446799e+00, 1.79239243e+00,\n",
       "        1.87031687e+00, 1.94824131e+00, 2.02616575e+00, 2.10409019e+00,\n",
       "        2.18201463e+00, 2.25993907e+00, 2.33786351e+00, 2.41578795e+00,\n",
       "        2.49371239e+00, 2.57163683e+00, 2.64956127e+00, 2.72748571e+00,\n",
       "        2.80541015e+00, 2.88333459e+00, 2.96125903e+00, 3.03918347e+00,\n",
       "        3.11710791e+00, 3.19503235e+00, 3.27295679e+00, 3.35088123e+00,\n",
       "        3.42880567e+00, 3.50673011e+00, 3.58465455e+00, 3.66257899e+00,\n",
       "        3.74050344e+00, 3.81842788e+00, 3.89635232e+00, 3.97427676e+00,\n",
       "        4.05220120e+00, 4.13012564e+00, 4.20805008e+00, 4.28597452e+00,\n",
       "        4.36389896e+00, 4.44182340e+00, 4.51974784e+00, 4.59767228e+00,\n",
       "        4.67559672e+00, 4.75352116e+00, 4.83144560e+00, 4.90937004e+00,\n",
       "        4.98729448e+00, 5.06521892e+00, 5.14314336e+00, 5.22106780e+00,\n",
       "        5.29899224e+00, 5.37691668e+00, 5.45484112e+00, 5.53276556e+00,\n",
       "        5.61069000e+00, 5.68861444e+00, 5.76653888e+00, 5.84446332e+00,\n",
       "        5.92238777e+00, 6.00031221e+00, 6.07823665e+00, 6.15616109e+00,\n",
       "        6.23408553e+00, 6.31200997e+00, 6.38993441e+00, 6.46785885e+00,\n",
       "        6.54578329e+00, 6.62370773e+00, 6.70163217e+00, 6.77955661e+00,\n",
       "        6.85748105e+00, 6.93540549e+00, 7.01332993e+00, 7.09125437e+00,\n",
       "        7.16917881e+00, 7.24710325e+00, 7.32502769e+00, 7.40295213e+00,\n",
       "        7.48087657e+00, 7.55880101e+00, 7.63672545e+00, 7.71464989e+00,\n",
       "        7.79257433e+00]),\n",
       " <a list of 100 Patch objects>)"
      ]
     },
     "execution_count": 58,
     "metadata": {},
     "output_type": "execute_result"
    },
    {
     "data": {
      "text/plain": [
       "(array([76., 70., 50., 54., 41., 44., 44., 45., 47., 44., 40., 39., 28.,\n",
       "        25., 16., 28., 24., 24., 22., 22., 13., 14., 11., 14., 12., 12.,\n",
       "        12., 10.,  8., 10., 12., 11.,  4.,  5.,  5.,  1.,  1.,  4.,  6.,\n",
       "         4.,  3.,  3.,  2.,  5.,  5.,  3.,  2.,  0.,  1.,  1.,  0.,  3.,\n",
       "         0.,  0.,  1.,  2.,  0.,  2.,  0.,  1.,  1.,  1.,  2.,  0.,  0.,\n",
       "         2.,  1.,  0.,  2.,  0.,  0.,  0.,  0.,  0.,  0.,  0.,  0.,  0.,\n",
       "         0.,  0.,  0.,  0.,  1.,  1.,  0.,  0.,  1.,  0.,  1.,  0.,  0.,\n",
       "         0.,  0.,  0.,  0.,  0.,  0.,  0.,  0.,  1.]),\n",
       " array([2.30747569e-03, 7.22242587e+00, 1.44425443e+01, 2.16626627e+01,\n",
       "        2.88827811e+01, 3.61028995e+01, 4.33230179e+01, 5.05431363e+01,\n",
       "        5.77632547e+01, 6.49833731e+01, 7.22034915e+01, 7.94236099e+01,\n",
       "        8.66437283e+01, 9.38638467e+01, 1.01083965e+02, 1.08304083e+02,\n",
       "        1.15524202e+02, 1.22744320e+02, 1.29964439e+02, 1.37184557e+02,\n",
       "        1.44404675e+02, 1.51624794e+02, 1.58844912e+02, 1.66065031e+02,\n",
       "        1.73285149e+02, 1.80505267e+02, 1.87725386e+02, 1.94945504e+02,\n",
       "        2.02165623e+02, 2.09385741e+02, 2.16605859e+02, 2.23825978e+02,\n",
       "        2.31046096e+02, 2.38266215e+02, 2.45486333e+02, 2.52706451e+02,\n",
       "        2.59926570e+02, 2.67146688e+02, 2.74366807e+02, 2.81586925e+02,\n",
       "        2.88807043e+02, 2.96027162e+02, 3.03247280e+02, 3.10467399e+02,\n",
       "        3.17687517e+02, 3.24907635e+02, 3.32127754e+02, 3.39347872e+02,\n",
       "        3.46567991e+02, 3.53788109e+02, 3.61008227e+02, 3.68228346e+02,\n",
       "        3.75448464e+02, 3.82668583e+02, 3.89888701e+02, 3.97108819e+02,\n",
       "        4.04328938e+02, 4.11549056e+02, 4.18769175e+02, 4.25989293e+02,\n",
       "        4.33209411e+02, 4.40429530e+02, 4.47649648e+02, 4.54869767e+02,\n",
       "        4.62089885e+02, 4.69310003e+02, 4.76530122e+02, 4.83750240e+02,\n",
       "        4.90970359e+02, 4.98190477e+02, 5.05410595e+02, 5.12630714e+02,\n",
       "        5.19850832e+02, 5.27070951e+02, 5.34291069e+02, 5.41511187e+02,\n",
       "        5.48731306e+02, 5.55951424e+02, 5.63171543e+02, 5.70391661e+02,\n",
       "        5.77611779e+02, 5.84831898e+02, 5.92052016e+02, 5.99272135e+02,\n",
       "        6.06492253e+02, 6.13712371e+02, 6.20932490e+02, 6.28152608e+02,\n",
       "        6.35372727e+02, 6.42592845e+02, 6.49812963e+02, 6.57033082e+02,\n",
       "        6.64253200e+02, 6.71473319e+02, 6.78693437e+02, 6.85913555e+02,\n",
       "        6.93133674e+02, 7.00353792e+02, 7.07573911e+02, 7.14794029e+02,\n",
       "        7.22014147e+02]),\n",
       " <a list of 100 Patch objects>)"
      ]
     },
     "execution_count": 58,
     "metadata": {},
     "output_type": "execute_result"
    },
    {
     "data": {
      "image/png": "[encoded data removed]",
      "text/plain": [
       "<Figure size 864x576 with 2 Axes>"
      ]
     },
     "metadata": {
      "needs_background": "light"
     },
     "output_type": "display_data"
    }
   ],
   "source": [
    "fig, ax = plt.subplots(1,2, figsize = (12, 8), sharey = True)\n",
    "\n",
    "ax[0].hist(set_1, bins = 100)\n",
    "ax[1].hist(set_2, bins = 100)"
   ]
  },
  {
   "cell_type": "markdown",
   "metadata": {},
   "source": [
    "How are the two distributions different?"
   ]
  },
  {
   "cell_type": "markdown",
   "metadata": {},
   "source": [
    "* The first one is less spread than the second one"
   ]
  },
  {
   "cell_type": "markdown",
   "metadata": {},
   "source": [
    "## Exponential Distribution of Real Data\n",
    "\n",
    "Suppose that the amount of time one spends in a bank is exponentially distributed with mean as 10 minutes (i.e. λ = 1/10). What is the probability that a customer will spend less than fifteen minutes in the bank? \n",
    "\n",
    "Write a code in python to solve this problem"
   ]
  },
  {
   "cell_type": "markdown",
   "metadata": {},
   "source": [
    "https://numpy.org/doc/stable/reference/random/generated/numpy.random.exponential.html <br>\n",
    "$ f(x; \\frac{1}{\\beta}) = \\frac{1}{\\beta}exp(-\\frac{x}{\\beta}) $<br>\n",
    "$ \\beta = \\frac{1}{\\lambda} $ (scale parameter)"
   ]
  },
  {
   "cell_type": "code",
   "execution_count": 60,
   "metadata": {},
   "outputs": [
    {
     "data": {
      "text/plain": [
       "0.776646598089144"
      ]
     },
     "execution_count": 60,
     "metadata": {},
     "output_type": "execute_result"
    }
   ],
   "source": [
    "# your answer here\n",
    "# Hint: This is same as saying P(x<15)\n",
    "prob_exp = expon.cdf(14.99, scale = 10)\n",
    "prob_exp"
   ]
  },
  {
   "cell_type": "markdown",
   "metadata": {},
   "source": [
    "What is the probability that the customer will spend more than 15 minutes"
   ]
  },
  {
   "cell_type": "code",
   "execution_count": 61,
   "metadata": {},
   "outputs": [
    {
     "data": {
      "text/plain": [
       "0.22335340191085595"
      ]
     },
     "execution_count": 61,
     "metadata": {},
     "output_type": "execute_result"
    }
   ],
   "source": [
    "# your answer here\n",
    "1 - prob_exp"
   ]
  },
  {
   "cell_type": "code",
   "execution_count": null,
   "metadata": {},
   "outputs": [],
   "source": []
  }
 ],
 "metadata": {
  "kernelspec": {
   "display_name": "Python 3",
   "language": "python",
   "name": "python3"
  },
  "language_info": {
   "codemirror_mode": {
    "name": "ipython",
    "version": 3
   },
   "file_extension": ".py",
   "mimetype": "text/x-python",
   "name": "python",
   "nbconvert_exporter": "python",
   "pygments_lexer": "ipython3",
   "version": "3.7.6"
  }
 },
 "nbformat": 4,
 "nbformat_minor": 2
}
